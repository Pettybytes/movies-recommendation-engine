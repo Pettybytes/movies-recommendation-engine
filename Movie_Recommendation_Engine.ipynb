{
 "cells": [
  {
   "cell_type": "code",
   "execution_count": 1,
   "id": "66dd862a",
   "metadata": {},
   "outputs": [
    {
     "name": "stdout",
     "output_type": "stream",
     "text": [
      "Requirement already satisfied: pandas in /home/ec2-user/anaconda3/envs/python3/lib/python3.10/site-packages (1.5.3)\n",
      "Requirement already satisfied: numpy in /home/ec2-user/anaconda3/envs/python3/lib/python3.10/site-packages (1.26.4)\n",
      "Requirement already satisfied: matplotlib in /home/ec2-user/anaconda3/envs/python3/lib/python3.10/site-packages (3.9.2)\n",
      "Requirement already satisfied: scikit-learn in /home/ec2-user/anaconda3/envs/python3/lib/python3.10/site-packages (1.5.2)\n",
      "Requirement already satisfied: python-dateutil>=2.8.1 in /home/ec2-user/anaconda3/envs/python3/lib/python3.10/site-packages (from pandas) (2.9.0)\n",
      "Requirement already satisfied: pytz>=2020.1 in /home/ec2-user/anaconda3/envs/python3/lib/python3.10/site-packages (from pandas) (2024.2)\n",
      "Requirement already satisfied: contourpy>=1.0.1 in /home/ec2-user/anaconda3/envs/python3/lib/python3.10/site-packages (from matplotlib) (1.3.0)\n",
      "Requirement already satisfied: cycler>=0.10 in /home/ec2-user/anaconda3/envs/python3/lib/python3.10/site-packages (from matplotlib) (0.12.1)\n",
      "Requirement already satisfied: fonttools>=4.22.0 in /home/ec2-user/anaconda3/envs/python3/lib/python3.10/site-packages (from matplotlib) (4.54.1)\n",
      "Requirement already satisfied: kiwisolver>=1.3.1 in /home/ec2-user/anaconda3/envs/python3/lib/python3.10/site-packages (from matplotlib) (1.4.7)\n",
      "Requirement already satisfied: packaging>=20.0 in /home/ec2-user/anaconda3/envs/python3/lib/python3.10/site-packages (from matplotlib) (21.3)\n",
      "Requirement already satisfied: pillow>=8 in /home/ec2-user/anaconda3/envs/python3/lib/python3.10/site-packages (from matplotlib) (11.0.0)\n",
      "Requirement already satisfied: pyparsing>=2.3.1 in /home/ec2-user/anaconda3/envs/python3/lib/python3.10/site-packages (from matplotlib) (3.2.0)\n",
      "Requirement already satisfied: scipy>=1.6.0 in /home/ec2-user/anaconda3/envs/python3/lib/python3.10/site-packages (from scikit-learn) (1.14.1)\n",
      "Requirement already satisfied: joblib>=1.2.0 in /home/ec2-user/anaconda3/envs/python3/lib/python3.10/site-packages (from scikit-learn) (1.4.2)\n",
      "Requirement already satisfied: threadpoolctl>=3.1.0 in /home/ec2-user/anaconda3/envs/python3/lib/python3.10/site-packages (from scikit-learn) (3.5.0)\n",
      "Requirement already satisfied: six>=1.5 in /home/ec2-user/anaconda3/envs/python3/lib/python3.10/site-packages (from python-dateutil>=2.8.1->pandas) (1.16.0)\n"
     ]
    }
   ],
   "source": [
    "!pip install pandas numpy matplotlib scikit-learn"
   ]
  },
  {
   "cell_type": "code",
   "execution_count": null,
   "id": "3987ffd9",
   "metadata": {},
   "outputs": [],
   "source": [
    "import pandas as pd\n",
    "import numpy as np\n",
    "import matplotlib.pyplot as plt\n",
    "\n",
    "basics = pd.read_csv('imdb-data/title.basics.tsv', sep='\\t', low_memory=False)\n",
    "ratings = pd.read_csv('imdb-data/title.ratings.tsv', sep='\\t')"
   ]
  },
  {
   "cell_type": "code",
   "execution_count": 1,
   "id": "e3006596",
   "metadata": {},
   "outputs": [
    {
     "ename": "NameError",
     "evalue": "name 'basics' is not defined",
     "output_type": "error",
     "traceback": [
      "\u001b[0;31m---------------------------------------------------------------------------\u001b[0m",
      "\u001b[0;31mNameError\u001b[0m                                 Traceback (most recent call last)",
      "Cell \u001b[0;32mIn[1], line 1\u001b[0m\n\u001b[0;32m----> 1\u001b[0m \u001b[43mbasics\u001b[49m\u001b[38;5;241m.\u001b[39mhead()\n\u001b[1;32m      2\u001b[0m ratings\u001b[38;5;241m.\u001b[39mhead() \n",
      "\u001b[0;31mNameError\u001b[0m: name 'basics' is not defined"
     ]
    }
   ],
   "source": [
    "basics.head()\n",
    "ratings.head() "
   ]
  },
  {
   "cell_type": "code",
   "execution_count": 2,
   "id": "929a06a1",
   "metadata": {},
   "outputs": [],
   "source": [
    "import pandas as pd\n",
    "import numpy as np\n",
    "import matplotlib.pyplot as plt"
   ]
  },
  {
   "cell_type": "code",
   "execution_count": null,
   "id": "46b00ee6",
   "metadata": {},
   "outputs": [],
   "source": [
    "basics = pd.read_csv('imdb-data/title.basics.tsv', sep='\\t', low_memory=False)\n",
    "ratings = pd.read_csv('imdb-data/title.ratings.tsv', sep='\\t') "
   ]
  },
  {
   "cell_type": "code",
   "execution_count": null,
   "id": "86b80fbd",
   "metadata": {},
   "outputs": [],
   "source": [
    "basics.head()\n",
    "ratings.head() "
   ]
  },
  {
   "cell_type": "code",
   "execution_count": null,
   "id": "b5236928",
   "metadata": {},
   "outputs": [],
   "source": [
    "plt.hist(ratings['averageRating'], bins=20)\n",
    "plt.xlabel('Average Rating')\n",
    "plt.ylabel('Frequency')\n",
    "plt.title('Distribution of Movie Ratings')\n",
    "plt.show() "
   ]
  },
  {
   "cell_type": "code",
   "execution_count": null,
   "id": "f2ae0801",
   "metadata": {},
   "outputs": [],
   "source": [
    "merged_df = pd.merge(basics, ratings, on='tconst') "
   ]
  },
  {
   "cell_type": "code",
   "execution_count": null,
   "id": "737bb19f",
   "metadata": {},
   "outputs": [],
   "source": [
    "merged_df = merged_df.dropna(subset=['genres', 'averageRating']) "
   ]
  },
  {
   "cell_type": "code",
   "execution_count": null,
   "id": "85102c71",
   "metadata": {},
   "outputs": [],
   "source": [
    "from sklearn.preprocessing import MultiLabelBinarizer\n",
    "\n",
    "merged_df['genres'] = merged_df['genres'].apply(lambda x: x.split(','))\n",
    "mlb = MultiLabelBinarizer()\n",
    "genre_df = pd.DataFrame(mlb.fit_transform(merged_df['genres']), columns=mlb.classes_, index=merged_df.index)\n",
    "transformed_df = pd.concat([merged_df, genre_df], axis=1) "
   ]
  },
  {
   "cell_type": "code",
   "execution_count": null,
   "id": "c1a29f52",
   "metadata": {},
   "outputs": [],
   "source": [
    "features = transformed_df[['averageRating'] + list(genre_df.columns)] "
   ]
  },
  {
   "cell_type": "code",
   "execution_count": null,
   "id": "86748e32",
   "metadata": {},
   "outputs": [],
   "source": [
    "from sklearn.cluster import KMeans\n",
    "\n",
    "kmeans = KMeans(n_clusters=10, random_state=0)\n",
    "transformed_df['cluster'] = kmeans.fit_predict(features) "
   ]
  },
  {
   "cell_type": "code",
   "execution_count": null,
   "id": "01d72fc7",
   "metadata": {},
   "outputs": [],
   "source": [
    "def recommend(movie_title, df, n=5):\n",
    "    cluster = df[df['primaryTitle'] == movie_title]['cluster'].values[0]\n",
    "    recommendations = df[df['cluster'] == cluster].sample(n)\n",
    "    return recommendations[['primaryTitle', 'averageRating']]\n",
    "\n",
    "# Test the function\n",
    "recommend('Inception', transformed_df) "
   ]
  },
  {
   "cell_type": "code",
   "execution_count": null,
   "id": "e6738ecd",
   "metadata": {},
   "outputs": [],
   "source": []
  }
 ],
 "metadata": {
  "kernelspec": {
   "display_name": "conda_python3",
   "language": "python",
   "name": "conda_python3"
  },
  "language_info": {
   "codemirror_mode": {
    "name": "ipython",
    "version": 3
   },
   "file_extension": ".py",
   "mimetype": "text/x-python",
   "name": "python",
   "nbconvert_exporter": "python",
   "pygments_lexer": "ipython3",
   "version": "3.10.15"
  }
 },
 "nbformat": 4,
 "nbformat_minor": 5
}
